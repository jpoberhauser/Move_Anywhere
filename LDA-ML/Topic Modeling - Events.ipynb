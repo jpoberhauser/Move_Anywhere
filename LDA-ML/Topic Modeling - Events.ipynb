{
 "cells": [
  {
   "cell_type": "markdown",
   "metadata": {},
   "source": [
    "# PROOF OF CONCEPT - LDA TOPIC MODELING - EVENTS DATA\n"
   ]
  },
  {
   "cell_type": "markdown",
   "metadata": {},
   "source": [
    "This jupyter notebook provides code showing a potential implementation of LDA for events data.  A dictionary of words/documents based on the event description is created.  A topic model is created by factorizing an overall document/word matrix into separate document/word - topic/word matrices.  Extensive validation/ideal topic number & word number were carried out to ensure that enough/not too many topics are returned/matched given a previous click.  The ultimate utilization would be for a single city or cross-city matching environment."
   ]
  },
  {
   "cell_type": "code",
   "execution_count": 157,
   "metadata": {
    "collapsed": true
   },
   "outputs": [],
   "source": [
    "import numpy as np\n",
    "import pandas as pd\n",
    "from nltk.corpus import stopwords \n",
    "from nltk.stem.wordnet import WordNetLemmatizer\n",
    "import string\n",
    "import re"
   ]
  },
  {
   "cell_type": "markdown",
   "metadata": {},
   "source": [
    "## Data cleaning\n",
    "Stop words removed.  Headings more easily identified.  Floats removed.  "
   ]
  },
  {
   "cell_type": "code",
   "execution_count": 287,
   "metadata": {
    "collapsed": true
   },
   "outputs": [],
   "source": [
    "events_move = pd.read_csv('events.csv')"
   ]
  },
  {
   "cell_type": "code",
   "execution_count": 288,
   "metadata": {
    "collapsed": false
   },
   "outputs": [],
   "source": [
    "events_move.columns = ['ID', 'Name', 'City', 'Description', 'Date', 'Added_date']\n"
   ]
  },
  {
   "cell_type": "code",
   "execution_count": 289,
   "metadata": {
    "collapsed": false
   },
   "outputs": [],
   "source": [
    "for j in range(len(events_move.Description)):\n",
    "\n",
    "    if type(events_move.iloc[j,3]) == float:\n",
    "        events_move.iloc[j,3] = 'blank'"
   ]
  },
  {
   "cell_type": "code",
   "execution_count": 290,
   "metadata": {
    "collapsed": false
   },
   "outputs": [],
   "source": [
    "events_move['Description'].replace(regex=True,inplace=True,to_replace=r'\\W',value=r' ')"
   ]
  },
  {
   "cell_type": "code",
   "execution_count": 291,
   "metadata": {
    "collapsed": false
   },
   "outputs": [],
   "source": [
    "events_move['Description'].replace(regex=True,inplace=True,to_replace=r'\\d',value=r' ')"
   ]
  },
  {
   "cell_type": "code",
   "execution_count": 292,
   "metadata": {
    "collapsed": true
   },
   "outputs": [],
   "source": [
    "document_set = events_move.Description"
   ]
  },
  {
   "cell_type": "markdown",
   "metadata": {},
   "source": [
    "Lemmatization and splitting of words"
   ]
  },
  {
   "cell_type": "code",
   "execution_count": 293,
   "metadata": {
    "collapsed": false
   },
   "outputs": [],
   "source": [
    "\n",
    "stop = set(stopwords.words('english'))\n",
    "exclude = set(string.punctuation) \n",
    "lemma = WordNetLemmatizer()\n",
    "def clean(doc):\n",
    "    stop_free = \" \".join([i for i in doc.lower().split() if i not in stop])\n",
    "    punc_free = ''.join(ch for ch in stop_free if ch not in exclude)\n",
    "    normalized = \" \".join(lemma.lemmatize(word) for word in punc_free.split())\n",
    "    return normalized\n",
    "\n",
    "doc_clean = [clean(doc).split() for doc in document_set]   \n"
   ]
  },
  {
   "cell_type": "code",
   "execution_count": 295,
   "metadata": {
    "collapsed": false
   },
   "outputs": [],
   "source": [
    "events_move['cleaned'] = doc_clean"
   ]
  },
  {
   "cell_type": "markdown",
   "metadata": {},
   "source": [
    "### Dictionary creation\n",
    "Dictionary creation based on split words.  Also doc matrix found."
   ]
  },
  {
   "cell_type": "code",
   "execution_count": 296,
   "metadata": {
    "collapsed": false
   },
   "outputs": [],
   "source": [
    "# Importing Gensim\n",
    "import gensim\n",
    "from gensim import corpora\n",
    "\n",
    "# Creating the term dictionary of our courpus, where every unique term is assigned an index. dictionary = corpora.Dictionary(doc_clean)\n",
    "\n",
    "dictionary = corpora.Dictionary(doc_clean)\n",
    "\n",
    "\n",
    "# Converting list of documents (corpus) into Document Term Matrix using dictionary prepared above.\n",
    "doc_term_matrix = [dictionary.doc2bow(doc) for doc in doc_clean]"
   ]
  },
  {
   "cell_type": "markdown",
   "metadata": {},
   "source": [
    "### Topic Modelling\n",
    "LDA model created.  Extensive topic and pass validation were done to ensure successful model."
   ]
  },
  {
   "cell_type": "code",
   "execution_count": null,
   "metadata": {
    "collapsed": true
   },
   "outputs": [],
   "source": [
    "# Creating the object for LDA model using gensim library\n",
    "Lda = gensim.models.ldamodel.LdaModel\n",
    "\n",
    "# Running and Trainign LDA model on the document term matrix.\n",
    "ldamodel = Lda(doc_term_matrix, num_topics=100, id2word = dictionary, passes=30)"
   ]
  },
  {
   "cell_type": "code",
   "execution_count": 361,
   "metadata": {
    "collapsed": false
   },
   "outputs": [],
   "source": [
    "topics = ldamodel.print_topics(num_topics=100, num_words=3)"
   ]
  },
  {
   "cell_type": "code",
   "execution_count": 362,
   "metadata": {
    "collapsed": false
   },
   "outputs": [
    {
     "data": {
      "text/plain": [
       "[(0, u'0.034*\"class\" + 0.032*\"bring\" + 0.023*\"learn\"'),\n",
       " (1, u'0.035*\"balancing\" + 0.035*\"job\" + 0.018*\"well\"'),\n",
       " (2, u'0.032*\"agile\" + 0.018*\"leader\" + 0.016*\"workshop\"'),\n",
       " (3, u'0.033*\"attribution\" + 0.022*\"networking\" + 0.022*\"city\"'),\n",
       " (4, u'0.045*\"training\" + 0.044*\"pmp\" + 0.036*\"course\"'),\n",
       " (5, u'0.035*\"boc\" + 0.028*\"training\" + 0.023*\"course\"'),\n",
       " (6, u'0.068*\"risk\" + 0.045*\"management\" + 0.037*\"course\"'),\n",
       " (7, u'0.000*\"management\" + 0.000*\"service\" + 0.000*\"project\"'),\n",
       " (8, u'0.023*\"law\" + 0.015*\"thursday\" + 0.015*\"enforcement\"'),\n",
       " (9, u'0.044*\"professional\" + 0.044*\"transportation\" + 0.030*\"bay\"'),\n",
       " (10, u'0.017*\"barefoot\" + 0.011*\"training\" + 0.011*\"delivery\"'),\n",
       " (11, u'0.054*\"agile\" + 0.041*\"class\" + 0.041*\"leadership\"'),\n",
       " (12, u'0.064*\"redfin\" + 0.056*\"home\" + 0.039*\"buying\"'),\n",
       " (13, u'0.037*\"york\" + 0.028*\"dating\" + 0.023*\"new\"'),\n",
       " (14, u'0.036*\"agile\" + 0.033*\"coaching\" + 0.033*\"team\"'),\n",
       " (15, u'0.046*\"emg\" + 0.039*\"ncv\" + 0.031*\"medical\"'),\n",
       " (16, u'0.035*\"coaching\" + 0.024*\"student\" + 0.021*\"training\"'),\n",
       " (17, u'0.047*\"campaign\" + 0.031*\"course\" + 0.031*\"strategy\"'),\n",
       " (18, u'0.033*\"opportunity\" + 0.033*\"seminar\" + 0.028*\"insight\"'),\n",
       " (19, u'0.041*\"functional\" + 0.038*\"medicine\" + 0.021*\"dr\"'),\n",
       " (20, u'0.000*\"de\" + 0.000*\"technology\" + 0.000*\"la\"'),\n",
       " (21, u'0.000*\"agile\" + 0.000*\"scrum\" + 0.000*\"lesson\"'),\n",
       " (22, u'0.021*\"vein\" + 0.021*\"sclerotherapy\" + 0.013*\"training\"'),\n",
       " (23, u'0.036*\"estate\" + 0.036*\"real\" + 0.014*\"investor\"'),\n",
       " (24, u'0.093*\"beer\" + 0.067*\"craft\" + 0.027*\"tour\"'),\n",
       " (25, u'0.039*\"matt\" + 0.026*\"show\" + 0.026*\"original\"'),\n",
       " (26, u'0.036*\"la\" + 0.027*\"de\" + 0.027*\"una\"'),\n",
       " (27, u'0.057*\"ticket\" + 0.037*\"coming\" + 0.029*\"photo\"'),\n",
       " (28, u'0.042*\"agile\" + 0.021*\"backlog\" + 0.015*\"day\"'),\n",
       " (29, u'0.000*\"agile\" + 0.000*\"lesson\" + 0.000*\"pmi\"'),\n",
       " (30, u'0.046*\"project\" + 0.039*\"training\" + 0.033*\"management\"'),\n",
       " (31, u'0.020*\"kubernetes\" + 0.014*\"program\" + 0.011*\"learn\"'),\n",
       " (32, u'0.039*\"scrum\" + 0.036*\"course\" + 0.021*\"agile\"'),\n",
       " (33, u'0.015*\"event\" + 0.011*\"prudential\" + 0.011*\"building\"'),\n",
       " (34, u'0.068*\"youth\" + 0.068*\"exclusive\" + 0.068*\"fortunate\"'),\n",
       " (35, u'0.036*\"kriya\" + 0.034*\"yoga\" + 0.032*\"yogiraj\"'),\n",
       " (36, u'0.030*\"pediatric\" + 0.030*\"palevsky\" + 0.026*\"holistic\"'),\n",
       " (37, u'0.028*\"new\" + 0.025*\"class\" + 0.023*\"hartford\"'),\n",
       " (38, u'0.037*\"ruck\" + 0.032*\"mile\" + 0.021*\"event\"'),\n",
       " (39, u'0.017*\"pm\" + 0.017*\"spark\" + 0.011*\"woman\"'),\n",
       " (40, u'0.040*\"class\" + 0.030*\"camera\" + 0.015*\"photography\"'),\n",
       " (41, u'0.016*\"day\" + 0.016*\"reporting\" + 0.015*\"training\"'),\n",
       " (42, u'0.095*\"service\" + 0.079*\"management\" + 0.033*\"lesson\"'),\n",
       " (43, u'0.020*\"wework\" + 0.018*\"new\" + 0.017*\"ca\"'),\n",
       " (44, u'0.018*\"module\" + 0.017*\"team\" + 0.017*\"ddmrp\"'),\n",
       " (45, u'0.021*\"dysphagia\" + 0.021*\"swallowing\" + 0.019*\"pm\"'),\n",
       " (46, u'0.000*\"agile\" + 0.000*\"lesson\" + 0.000*\"pmi\"'),\n",
       " (47, u'0.034*\"course\" + 0.030*\"fundraising\" + 0.023*\"campaign\"'),\n",
       " (48, u'0.064*\"de\" + 0.052*\"la\" + 0.024*\"que\"'),\n",
       " (49, u'0.037*\"marketing\" + 0.036*\"business\" + 0.026*\"event\"'),\n",
       " (50, u'0.052*\"safe\" + 0.041*\"product\" + 0.022*\"certification\"'),\n",
       " (51, u'0.021*\"haccp\" + 0.021*\"w\" + 0.016*\"new\"'),\n",
       " (52, u'0.072*\"agile\" + 0.037*\"course\" + 0.029*\"safe\"'),\n",
       " (53, u'0.039*\"learn\" + 0.033*\"technology\" + 0.019*\"tuesday\"'),\n",
       " (54, u'0.023*\"parking\" + 0.020*\"mile\" + 0.020*\"psoriasis\"'),\n",
       " (55, u'0.041*\"grounding\" + 0.014*\"exam\" + 0.014*\"ground\"'),\n",
       " (56, u'0.044*\"austin\" + 0.034*\"city\" + 0.021*\"new\"'),\n",
       " (57, u'0.016*\"hand\" + 0.015*\"time\" + 0.013*\"class\"'),\n",
       " (58, u'0.024*\"brewing\" + 0.024*\"blank\" + 0.024*\"prince\"'),\n",
       " (59, u'0.000*\"service\" + 0.000*\"management\" + 0.000*\"itil\"'),\n",
       " (60, u'0.030*\"training\" + 0.024*\"personal\" + 0.019*\"equinox\"'),\n",
       " (61, u'0.045*\"www\" + 0.044*\"com\" + 0.033*\"model\"'),\n",
       " (62, u'0.020*\"th\" + 0.018*\"due\" + 0.017*\"seminar\"'),\n",
       " (63, u'0.067*\"paint\" + 0.017*\"austin\" + 0.017*\"america\"'),\n",
       " (64, u'0.043*\"course\" + 0.043*\"heartspeak\" + 0.021*\"information\"'),\n",
       " (65, u'0.073*\"agile\" + 0.066*\"lesson\" + 0.042*\"pmi\"'),\n",
       " (66, u'0.049*\"cancellation\" + 0.040*\"day\" + 0.039*\"training\"'),\n",
       " (67, u'0.055*\"party\" + 0.031*\"work\" + 0.022*\"one\"'),\n",
       " (68, u'0.000*\"project\" + 0.000*\"management\" + 0.000*\"course\"'),\n",
       " (69, u'0.025*\"free\" + 0.024*\"run\" + 0.022*\"parent\"'),\n",
       " (70, u'0.033*\"ca\" + 0.033*\"participant\" + 0.025*\"workshop\"'),\n",
       " (71, u'0.000*\"functional\" + 0.000*\"event\" + 0.000*\"business\"'),\n",
       " (72, u'0.048*\"scrum\" + 0.042*\"devops\" + 0.034*\"jenkins\"'),\n",
       " (73, u'0.000*\"project\" + 0.000*\"agile\" + 0.000*\"class\"'),\n",
       " (74, u'0.031*\"event\" + 0.021*\"baby\" + 0.017*\"ticket\"'),\n",
       " (75, u'0.030*\"volunteer\" + 0.022*\"pm\" + 0.022*\"please\"'),\n",
       " (76, u'0.033*\"irs\" + 0.027*\"tax\" + 0.020*\"resolution\"'),\n",
       " (77, u'0.028*\"event\" + 0.026*\"unity\" + 0.015*\"u\"'),\n",
       " (78, u'0.064*\"alignment\" + 0.031*\"course\" + 0.031*\"feature\"'),\n",
       " (79, u'0.051*\"pmp\" + 0.044*\"project\" + 0.036*\"exam\"'),\n",
       " (80, u'0.041*\"state\" + 0.034*\"business\" + 0.028*\"collective\"'),\n",
       " (81, u'0.037*\"new\" + 0.037*\"also\" + 0.037*\"technology\"'),\n",
       " (82, u'0.044*\"course\" + 0.031*\"pelvic\" + 0.021*\"clinical\"'),\n",
       " (83, u'0.068*\"art\" + 0.029*\"artist\" + 0.021*\"artundressed\"'),\n",
       " (84, u'0.035*\"diet\" + 0.024*\"fat\" + 0.021*\"design\"'),\n",
       " (85, u'0.088*\"project\" + 0.037*\"management\" + 0.028*\"manager\"'),\n",
       " (86, u'0.061*\"duct\" + 0.018*\"system\" + 0.018*\"class\"'),\n",
       " (87, u'0.027*\"amma\" + 0.016*\"blessing\" + 0.014*\"event\"'),\n",
       " (88, u'0.088*\"project\" + 0.057*\"management\" + 0.020*\"pmp\"'),\n",
       " (89, u'0.027*\"drink\" + 0.018*\"favorite\" + 0.018*\"friend\"'),\n",
       " (90, u'0.024*\"gender\" + 0.020*\"toolkit\" + 0.016*\"investing\"'),\n",
       " (91, u'0.032*\"skill\" + 0.016*\"placement\" + 0.016*\"advanced\"'),\n",
       " (92, u'0.000*\"service\" + 0.000*\"management\" + 0.000*\"lesson\"'),\n",
       " (93, u'0.024*\"web\" + 0.023*\"conference\" + 0.023*\"azure\"'),\n",
       " (94, u'0.021*\"scrum\" + 0.016*\"course\" + 0.015*\"master\"'),\n",
       " (95, u'0.032*\"fall\" + 0.021*\"waterfall\" + 0.021*\"hiking\"'),\n",
       " (96, u'0.043*\"wynwood\" + 0.021*\"art\" + 0.021*\"sunday\"'),\n",
       " (97, u'0.019*\"june\" + 0.014*\"industry\" + 0.013*\"event\"'),\n",
       " (98, u'0.032*\"training\" + 0.032*\"botox\" + 0.023*\"practice\"'),\n",
       " (99, u'0.066*\"fme\" + 0.065*\"training\" + 0.032*\"day\"')]"
      ]
     },
     "execution_count": 362,
     "metadata": {},
     "output_type": "execute_result"
    }
   ],
   "source": [
    "topics"
   ]
  },
  {
   "cell_type": "markdown",
   "metadata": {
    "collapsed": false
   },
   "source": [
    "### Running of model\n",
    "\n",
    "Individual topics found for each event.  Shown in final column below."
   ]
  },
  {
   "cell_type": "code",
   "execution_count": 371,
   "metadata": {
    "collapsed": false
   },
   "outputs": [],
   "source": [
    "topic_holder = []\n",
    "\n",
    "for j in range(len(events_move)):\n",
    "    \n",
    "\n",
    "    doc_new = [events_move.iloc[j, 6]]\n",
    "\n",
    "# Creating the term dictionary of our courpus, where every unique term is assigned an index. dictionary = corpora.Dictionary(doc_clean)\n",
    "\n",
    "\n",
    "\n",
    "# Converting list of documents (corpus) into Document Term Matrix using dictionary prepared above.\n",
    "    doc_term_matrix2 = [dictionary.doc2bow(doc) for doc in doc_new]\n",
    "\n",
    "    output = ldamodel[doc_term_matrix2]\n",
    "    \n",
    "    topic_holder.append(output)"
   ]
  },
  {
   "cell_type": "code",
   "execution_count": 394,
   "metadata": {
    "collapsed": false
   },
   "outputs": [
    {
     "name": "stderr",
     "output_type": "stream",
     "text": [
      "/usr/local/lib/python2.7/site-packages/ipykernel/__main__.py:4: SettingWithCopyWarning: \n",
      "A value is trying to be set on a copy of a slice from a DataFrame\n",
      "\n",
      "See the caveats in the documentation: http://pandas.pydata.org/pandas-docs/stable/indexing.html#indexing-view-versus-copy\n"
     ]
    }
   ],
   "source": [
    "events_move['topic_probs'] = 'hold'\n",
    "\n",
    "for k in range(len(events_move)):\n",
    "    events_move.topic_probs[k] = topic_holder[k][0]"
   ]
  },
  {
   "cell_type": "code",
   "execution_count": 395,
   "metadata": {
    "collapsed": false
   },
   "outputs": [
    {
     "data": {
      "text/html": [
       "<div>\n",
       "<table border=\"1\" class=\"dataframe\">\n",
       "  <thead>\n",
       "    <tr style=\"text-align: right;\">\n",
       "      <th></th>\n",
       "      <th>ID</th>\n",
       "      <th>Name</th>\n",
       "      <th>City</th>\n",
       "      <th>Description</th>\n",
       "      <th>Date</th>\n",
       "      <th>Added_date</th>\n",
       "      <th>cleaned</th>\n",
       "      <th>topic_probs</th>\n",
       "    </tr>\n",
       "  </thead>\n",
       "  <tbody>\n",
       "    <tr>\n",
       "      <th>0</th>\n",
       "      <td>0</td>\n",
       "      <td>NEW YORK, NY - FHA FIRST Design &amp; Construction...</td>\n",
       "      <td>New+York,+NY</td>\n",
       "      <td>Free Fair Housing Design and Construction Trai...</td>\n",
       "      <td>2017-06-20</td>\n",
       "      <td>2017-04-20 11:35:48.481872</td>\n",
       "      <td>[free, fair, housing, design, construction, tr...</td>\n",
       "      <td>[(84, 0.982)]</td>\n",
       "    </tr>\n",
       "    <tr>\n",
       "      <th>1</th>\n",
       "      <td>1</td>\n",
       "      <td>Verizon Innovative Learning Lab: Music Mixing ...</td>\n",
       "      <td>New+York,+NY</td>\n",
       "      <td>Saturday  April          Verizon Innovative Le...</td>\n",
       "      <td>2017-04-22</td>\n",
       "      <td>2017-04-20 11:35:48.481872</td>\n",
       "      <td>[saturday, april, verizon, innovative, learnin...</td>\n",
       "      <td>[(57, 0.984769230769)]</td>\n",
       "    </tr>\n",
       "    <tr>\n",
       "      <th>2</th>\n",
       "      <td>2</td>\n",
       "      <td>Confronting the Tragedy</td>\n",
       "      <td>New+York,+NY</td>\n",
       "      <td>Confronting the Tragedy  Law Enforcement  Unio...</td>\n",
       "      <td>2017-04-28</td>\n",
       "      <td>2017-04-20 11:35:48.481872</td>\n",
       "      <td>[confronting, tragedy, law, enforcement, union...</td>\n",
       "      <td>[(8, 0.602637470206), (28, 0.377820172179), (3...</td>\n",
       "    </tr>\n",
       "    <tr>\n",
       "      <th>3</th>\n",
       "      <td>3</td>\n",
       "      <td>Leading SAFe®  4.0 Training - New York</td>\n",
       "      <td>New+York,+NY</td>\n",
       "      <td>In this two day course  attendees will gain th...</td>\n",
       "      <td>2017-06-14</td>\n",
       "      <td>2017-04-20 11:35:48.481872</td>\n",
       "      <td>[two, day, course, attendee, gain, knowledge, ...</td>\n",
       "      <td>[(10, 0.399428220479), (52, 0.596488446188)]</td>\n",
       "    </tr>\n",
       "    <tr>\n",
       "      <th>4</th>\n",
       "      <td>4</td>\n",
       "      <td>Botox Training - New York, NY</td>\n",
       "      <td>New+York,+NY</td>\n",
       "      <td>Learn to perform Botox injections and other ae...</td>\n",
       "      <td>2017-04-29</td>\n",
       "      <td>2017-04-20 11:35:48.481872</td>\n",
       "      <td>[learn, perform, botox, injection, aesthetic, ...</td>\n",
       "      <td>[(98, 0.995330188679)]</td>\n",
       "    </tr>\n",
       "  </tbody>\n",
       "</table>\n",
       "</div>"
      ],
      "text/plain": [
       "   ID                                               Name          City  \\\n",
       "0   0  NEW YORK, NY - FHA FIRST Design & Construction...  New+York,+NY   \n",
       "1   1  Verizon Innovative Learning Lab: Music Mixing ...  New+York,+NY   \n",
       "2   2                            Confronting the Tragedy  New+York,+NY   \n",
       "3   3             Leading SAFe®  4.0 Training - New York  New+York,+NY   \n",
       "4   4                      Botox Training - New York, NY  New+York,+NY   \n",
       "\n",
       "                                         Description        Date  \\\n",
       "0  Free Fair Housing Design and Construction Trai...  2017-06-20   \n",
       "1  Saturday  April          Verizon Innovative Le...  2017-04-22   \n",
       "2  Confronting the Tragedy  Law Enforcement  Unio...  2017-04-28   \n",
       "3  In this two day course  attendees will gain th...  2017-06-14   \n",
       "4  Learn to perform Botox injections and other ae...  2017-04-29   \n",
       "\n",
       "                   Added_date  \\\n",
       "0  2017-04-20 11:35:48.481872   \n",
       "1  2017-04-20 11:35:48.481872   \n",
       "2  2017-04-20 11:35:48.481872   \n",
       "3  2017-04-20 11:35:48.481872   \n",
       "4  2017-04-20 11:35:48.481872   \n",
       "\n",
       "                                             cleaned  \\\n",
       "0  [free, fair, housing, design, construction, tr...   \n",
       "1  [saturday, april, verizon, innovative, learnin...   \n",
       "2  [confronting, tragedy, law, enforcement, union...   \n",
       "3  [two, day, course, attendee, gain, knowledge, ...   \n",
       "4  [learn, perform, botox, injection, aesthetic, ...   \n",
       "\n",
       "                                         topic_probs  \n",
       "0                                      [(84, 0.982)]  \n",
       "1                             [(57, 0.984769230769)]  \n",
       "2  [(8, 0.602637470206), (28, 0.377820172179), (3...  \n",
       "3       [(10, 0.399428220479), (52, 0.596488446188)]  \n",
       "4                             [(98, 0.995330188679)]  "
      ]
     },
     "execution_count": 395,
     "metadata": {},
     "output_type": "execute_result"
    }
   ],
   "source": [
    "events_move.head()"
   ]
  },
  {
   "cell_type": "code",
   "execution_count": 417,
   "metadata": {
    "collapsed": false
   },
   "outputs": [
    {
     "name": "stderr",
     "output_type": "stream",
     "text": [
      "/usr/local/lib/python2.7/site-packages/ipykernel/__main__.py:4: SettingWithCopyWarning: \n",
      "A value is trying to be set on a copy of a slice from a DataFrame\n",
      "\n",
      "See the caveats in the documentation: http://pandas.pydata.org/pandas-docs/stable/indexing.html#indexing-view-versus-copy\n"
     ]
    }
   ],
   "source": [
    "for m in range(len(events_move)):\n",
    "    n = len(events_move.topic_probs[m])\n",
    "    hold = events_move.topic_probs[m]\n",
    "    events_move.topic_probs[m] = [hold[n][0] for n in range(n)]"
   ]
  },
  {
   "cell_type": "markdown",
   "metadata": {},
   "source": [
    "### Data Scrubbing\n",
    "Appropriate topics found for each."
   ]
  },
  {
   "cell_type": "code",
   "execution_count": 418,
   "metadata": {
    "collapsed": false,
    "scrolled": true
   },
   "outputs": [
    {
     "data": {
      "text/html": [
       "<div>\n",
       "<table border=\"1\" class=\"dataframe\">\n",
       "  <thead>\n",
       "    <tr style=\"text-align: right;\">\n",
       "      <th></th>\n",
       "      <th>ID</th>\n",
       "      <th>Name</th>\n",
       "      <th>City</th>\n",
       "      <th>Description</th>\n",
       "      <th>Date</th>\n",
       "      <th>Added_date</th>\n",
       "      <th>cleaned</th>\n",
       "      <th>topic_probs</th>\n",
       "    </tr>\n",
       "  </thead>\n",
       "  <tbody>\n",
       "    <tr>\n",
       "      <th>0</th>\n",
       "      <td>0</td>\n",
       "      <td>NEW YORK, NY - FHA FIRST Design &amp; Construction...</td>\n",
       "      <td>New+York,+NY</td>\n",
       "      <td>Free Fair Housing Design and Construction Trai...</td>\n",
       "      <td>2017-06-20</td>\n",
       "      <td>2017-04-20 11:35:48.481872</td>\n",
       "      <td>[free, fair, housing, design, construction, tr...</td>\n",
       "      <td>[84]</td>\n",
       "    </tr>\n",
       "    <tr>\n",
       "      <th>1</th>\n",
       "      <td>1</td>\n",
       "      <td>Verizon Innovative Learning Lab: Music Mixing ...</td>\n",
       "      <td>New+York,+NY</td>\n",
       "      <td>Saturday  April          Verizon Innovative Le...</td>\n",
       "      <td>2017-04-22</td>\n",
       "      <td>2017-04-20 11:35:48.481872</td>\n",
       "      <td>[saturday, april, verizon, innovative, learnin...</td>\n",
       "      <td>[57]</td>\n",
       "    </tr>\n",
       "    <tr>\n",
       "      <th>2</th>\n",
       "      <td>2</td>\n",
       "      <td>Confronting the Tragedy</td>\n",
       "      <td>New+York,+NY</td>\n",
       "      <td>Confronting the Tragedy  Law Enforcement  Unio...</td>\n",
       "      <td>2017-04-28</td>\n",
       "      <td>2017-04-20 11:35:48.481872</td>\n",
       "      <td>[confronting, tragedy, law, enforcement, union...</td>\n",
       "      <td>[8, 28, 31]</td>\n",
       "    </tr>\n",
       "    <tr>\n",
       "      <th>3</th>\n",
       "      <td>3</td>\n",
       "      <td>Leading SAFe®  4.0 Training - New York</td>\n",
       "      <td>New+York,+NY</td>\n",
       "      <td>In this two day course  attendees will gain th...</td>\n",
       "      <td>2017-06-14</td>\n",
       "      <td>2017-04-20 11:35:48.481872</td>\n",
       "      <td>[two, day, course, attendee, gain, knowledge, ...</td>\n",
       "      <td>[10, 52]</td>\n",
       "    </tr>\n",
       "    <tr>\n",
       "      <th>4</th>\n",
       "      <td>4</td>\n",
       "      <td>Botox Training - New York, NY</td>\n",
       "      <td>New+York,+NY</td>\n",
       "      <td>Learn to perform Botox injections and other ae...</td>\n",
       "      <td>2017-04-29</td>\n",
       "      <td>2017-04-20 11:35:48.481872</td>\n",
       "      <td>[learn, perform, botox, injection, aesthetic, ...</td>\n",
       "      <td>[98]</td>\n",
       "    </tr>\n",
       "  </tbody>\n",
       "</table>\n",
       "</div>"
      ],
      "text/plain": [
       "   ID                                               Name          City  \\\n",
       "0   0  NEW YORK, NY - FHA FIRST Design & Construction...  New+York,+NY   \n",
       "1   1  Verizon Innovative Learning Lab: Music Mixing ...  New+York,+NY   \n",
       "2   2                            Confronting the Tragedy  New+York,+NY   \n",
       "3   3             Leading SAFe®  4.0 Training - New York  New+York,+NY   \n",
       "4   4                      Botox Training - New York, NY  New+York,+NY   \n",
       "\n",
       "                                         Description        Date  \\\n",
       "0  Free Fair Housing Design and Construction Trai...  2017-06-20   \n",
       "1  Saturday  April          Verizon Innovative Le...  2017-04-22   \n",
       "2  Confronting the Tragedy  Law Enforcement  Unio...  2017-04-28   \n",
       "3  In this two day course  attendees will gain th...  2017-06-14   \n",
       "4  Learn to perform Botox injections and other ae...  2017-04-29   \n",
       "\n",
       "                   Added_date  \\\n",
       "0  2017-04-20 11:35:48.481872   \n",
       "1  2017-04-20 11:35:48.481872   \n",
       "2  2017-04-20 11:35:48.481872   \n",
       "3  2017-04-20 11:35:48.481872   \n",
       "4  2017-04-20 11:35:48.481872   \n",
       "\n",
       "                                             cleaned  topic_probs  \n",
       "0  [free, fair, housing, design, construction, tr...         [84]  \n",
       "1  [saturday, april, verizon, innovative, learnin...         [57]  \n",
       "2  [confronting, tragedy, law, enforcement, union...  [8, 28, 31]  \n",
       "3  [two, day, course, attendee, gain, knowledge, ...     [10, 52]  \n",
       "4  [learn, perform, botox, injection, aesthetic, ...         [98]  "
      ]
     },
     "execution_count": 418,
     "metadata": {},
     "output_type": "execute_result"
    }
   ],
   "source": [
    "events_move.head()"
   ]
  },
  {
   "cell_type": "markdown",
   "metadata": {},
   "source": [
    "## Proof of concept displayed\n",
    "A random event is chosen.  In this case a beer camp in Austin, TX.  Suggested events are then found by matching events with similar derived topic numbers.  In this case the resulting matches are beer camps in other cities, demonstrating the proof of concept."
   ]
  },
  {
   "cell_type": "code",
   "execution_count": 448,
   "metadata": {
    "collapsed": true
   },
   "outputs": [],
   "source": [
    "test_index = np.random.choice(range(len(events_move)))"
   ]
  },
  {
   "cell_type": "code",
   "execution_count": 449,
   "metadata": {
    "collapsed": false
   },
   "outputs": [
    {
     "data": {
      "text/plain": [
       "65"
      ]
     },
     "execution_count": 449,
     "metadata": {},
     "output_type": "execute_result"
    }
   ],
   "source": [
    "test_index"
   ]
  },
  {
   "cell_type": "code",
   "execution_count": 452,
   "metadata": {
    "collapsed": false
   },
   "outputs": [
    {
     "data": {
      "text/plain": [
       "'Beer Camp on Tour: Austin, TX'"
      ]
     },
     "execution_count": 452,
     "metadata": {},
     "output_type": "execute_result"
    }
   ],
   "source": [
    "events_move.Name[65]"
   ]
  },
  {
   "cell_type": "code",
   "execution_count": 453,
   "metadata": {
    "collapsed": false
   },
   "outputs": [],
   "source": [
    "similar_topics = []\n",
    "for p in events_move.topic_probs[test_index]:\n",
    "    for q in range(len(events_move)):\n",
    "        if q != test_index:\n",
    "            if p in events_move.topic_probs[q]:\n",
    "                similar_topics.append(q)\n",
    "            \n",
    "similar_topics = list((set(similar_topics)))"
   ]
  },
  {
   "cell_type": "code",
   "execution_count": 454,
   "metadata": {
    "collapsed": false
   },
   "outputs": [
    {
     "data": {
      "text/plain": [
       "[497, 107, 399, 357, 207]"
      ]
     },
     "execution_count": 454,
     "metadata": {},
     "output_type": "execute_result"
    }
   ],
   "source": [
    "similar_topics"
   ]
  },
  {
   "cell_type": "code",
   "execution_count": 455,
   "metadata": {
    "collapsed": false
   },
   "outputs": [
    {
     "data": {
      "text/plain": [
       "'America   s largest craft beer festival is coming to Chicago  This summer  Beer Camp on Tour takes over Navy Pier with hundreds of craft beers  the city   s best food trucks  live music and good times  Every craft brewer in the nation is invited and you are  too  The Midwest was the nexus of the beer industry for a century  but today   s craft brewers are shifting the focus from industrial to artisan with some of the most exciting beers in the nation  Join us in Chicago to celebrate the craft beer community and the importance of collaboration nationally and internationally  Check the website for all the information you   re looking for as it   s revealed   Beer Camp On Tour This event is for attendees     and older '"
      ]
     },
     "execution_count": 455,
     "metadata": {},
     "output_type": "execute_result"
    }
   ],
   "source": [
    "events_move.Description[497]"
   ]
  },
  {
   "cell_type": "code",
   "execution_count": 456,
   "metadata": {
    "collapsed": false
   },
   "outputs": [
    {
     "data": {
      "text/plain": [
       "'America   s largest craft beer festival is coming to San Francisco  This summer  Beer Camp on Tour takes over Pier    with hundreds of craft beers  the city   s best food trucks  live music and good times  Every craft brewer in the nation is invited and you are  too  Northern California is the birthplace of craft beer  and don   t you forget it  Fortunately for beer lovers  brewers take that legacy seriously by always pushing the boundaries of new and innovative beers  Join us in San Francisco to celebrate the craft beer community and the importance of collaboration nationally and internationally  Check the website for all the information you   re looking for as it   s revealed   Beer Camp On Tour This event is for attendees     and older '"
      ]
     },
     "execution_count": 456,
     "metadata": {},
     "output_type": "execute_result"
    }
   ],
   "source": [
    "events_move.Description[107]"
   ]
  },
  {
   "cell_type": "code",
   "execution_count": 457,
   "metadata": {
    "collapsed": false
   },
   "outputs": [
    {
     "data": {
      "text/plain": [
       "'America   s largest craft beer festival is coming to San Francisco  This summer  Beer Camp on Tour takes over Pier    with hundreds of craft beers  the city   s best food trucks  live music and good times  Every craft brewer in the nation is invited and you are  too  Northern California is the birthplace of craft beer  and don   t you forget it  Fortunately for beer lovers  brewers take that legacy seriously by always pushing the boundaries of new and innovative beers  Join us in San Francisco to celebrate the craft beer community and the importance of collaboration nationally and internationally  Check the website for all the information you   re looking for as it   s revealed   Beer Camp On Tour This event is for attendees     and older '"
      ]
     },
     "execution_count": 457,
     "metadata": {},
     "output_type": "execute_result"
    }
   ],
   "source": [
    "events_move.Description[399]"
   ]
  },
  {
   "cell_type": "code",
   "execution_count": 459,
   "metadata": {
    "collapsed": false
   },
   "outputs": [
    {
     "data": {
      "text/plain": [
       "'America   s largest craft beer festival is coming to Chicago  This summer  Beer Camp on Tour takes over Navy Pier with hundreds of craft beers  the city   s best food trucks  live music and good times  Every craft brewer in the nation is invited and you are  too  The Midwest was the nexus of the beer industry for a century  but today   s craft brewers are shifting the focus from industrial to artisan with some of the most exciting beers in the nation  Join us in Chicago to celebrate the craft beer community and the importance of collaboration nationally and internationally  Check the website for all the information you   re looking for as it   s revealed   Beer Camp On Tour This event is for attendees     and older '"
      ]
     },
     "execution_count": 459,
     "metadata": {},
     "output_type": "execute_result"
    }
   ],
   "source": [
    "events_move.Description[207]"
   ]
  },
  {
   "cell_type": "code",
   "execution_count": null,
   "metadata": {
    "collapsed": true
   },
   "outputs": [],
   "source": []
  }
 ],
 "metadata": {
  "kernelspec": {
   "display_name": "Python 2",
   "language": "python",
   "name": "python2"
  },
  "language_info": {
   "codemirror_mode": {
    "name": "ipython",
    "version": 2
   },
   "file_extension": ".py",
   "mimetype": "text/x-python",
   "name": "python",
   "nbconvert_exporter": "python",
   "pygments_lexer": "ipython2",
   "version": "2.7.12"
  }
 },
 "nbformat": 4,
 "nbformat_minor": 1
}
